{
 "cells": [
  {
   "cell_type": "code",
   "execution_count": 1,
   "id": "f8ec48a8",
   "metadata": {
    "_cell_guid": "b1076dfc-b9ad-4769-8c92-a6c4dae69d19",
    "_uuid": "8f2839f25d086af736a60e9eeb907d3b93b6e0e5",
    "execution": {
     "iopub.execute_input": "2024-11-13T14:27:58.753172Z",
     "iopub.status.busy": "2024-11-13T14:27:58.752723Z",
     "iopub.status.idle": "2024-11-13T14:27:59.775370Z",
     "shell.execute_reply": "2024-11-13T14:27:59.774078Z"
    },
    "papermill": {
     "duration": 1.031748,
     "end_time": "2024-11-13T14:27:59.778192",
     "exception": false,
     "start_time": "2024-11-13T14:27:58.746444",
     "status": "completed"
    },
    "tags": []
   },
   "outputs": [],
   "source": [
    "# This Python 3 environment comes with many helpful analytics libraries installed\n",
    "# It is defined by the kaggle/python Docker image: https://github.com/kaggle/docker-python\n",
    "# For example, here's several helpful packages to load\n",
    "\n",
    "import numpy as np # linear algebra\n",
    "import pandas as pd # data processing, CSV file I/O (e.g. pd.read_csv)\n",
    "\n",
    "# Input data files are available in the read-only \"../input/\" directory\n",
    "# For example, running this (by clicking run or pressing Shift+Enter) will list all files under the input directory\n",
    "\n",
    "import os\n",
    "for dirname, _, filenames in os.walk('/kaggle/input'):\n",
    "    for filename in filenames:\n",
    "        print(os.path.join(dirname, filename))\n",
    "\n",
    "# You can write up to 20GB to the current directory (/kaggle/working/) that gets preserved as output when you create a version using \"Save & Run All\" \n",
    "# You can also write temporary files to /kaggle/temp/, but they won't be saved outside of the current session"
   ]
  },
  {
   "cell_type": "code",
   "execution_count": 2,
   "id": "677d8d61",
   "metadata": {
    "execution": {
     "iopub.execute_input": "2024-11-13T14:27:59.788624Z",
     "iopub.status.busy": "2024-11-13T14:27:59.788014Z",
     "iopub.status.idle": "2024-11-13T14:28:33.214946Z",
     "shell.execute_reply": "2024-11-13T14:28:33.213461Z"
    },
    "papermill": {
     "duration": 33.438477,
     "end_time": "2024-11-13T14:28:33.221175",
     "exception": false,
     "start_time": "2024-11-13T14:27:59.782698",
     "status": "completed"
    },
    "tags": []
   },
   "outputs": [
    {
     "name": "stdout",
     "output_type": "stream",
     "text": [
      "Note: you may need to restart the kernel to use updated packages.\n"
     ]
    }
   ],
   "source": [
    "%pip install -q -U 'google-generativeai>=0.8.3'"
   ]
  },
  {
   "cell_type": "code",
   "execution_count": 3,
   "id": "c4025d0f",
   "metadata": {
    "execution": {
     "iopub.execute_input": "2024-11-13T14:28:33.232317Z",
     "iopub.status.busy": "2024-11-13T14:28:33.231872Z",
     "iopub.status.idle": "2024-11-13T14:28:34.800428Z",
     "shell.execute_reply": "2024-11-13T14:28:34.799160Z"
    },
    "papermill": {
     "duration": 1.578945,
     "end_time": "2024-11-13T14:28:34.804695",
     "exception": false,
     "start_time": "2024-11-13T14:28:33.225750",
     "status": "completed"
    },
    "tags": []
   },
   "outputs": [],
   "source": [
    "import google.generativeai as genai\n",
    "\n",
    "from kaggle_secrets import UserSecretsClient\n",
    "\n",
    "GOOGLE_API_KEY = UserSecretsClient().get_secret(\"GOOGLE_API_KEY\")\n",
    "genai.configure(api_key=GOOGLE_API_KEY)\n"
   ]
  },
  {
   "cell_type": "code",
   "execution_count": 4,
   "id": "46039d84",
   "metadata": {
    "execution": {
     "iopub.execute_input": "2024-11-13T14:28:34.818019Z",
     "iopub.status.busy": "2024-11-13T14:28:34.816978Z",
     "iopub.status.idle": "2024-11-13T14:28:35.788687Z",
     "shell.execute_reply": "2024-11-13T14:28:35.787341Z"
    },
    "papermill": {
     "duration": 0.981353,
     "end_time": "2024-11-13T14:28:35.791778",
     "exception": false,
     "start_time": "2024-11-13T14:28:34.810425",
     "status": "completed"
    },
    "tags": []
   },
   "outputs": [],
   "source": [
    "%load_ext sql\n",
    "%sql sqlite:///sample.db"
   ]
  },
  {
   "cell_type": "code",
   "execution_count": 5,
   "id": "d5a38fba",
   "metadata": {
    "execution": {
     "iopub.execute_input": "2024-11-13T14:28:35.802750Z",
     "iopub.status.busy": "2024-11-13T14:28:35.802136Z",
     "iopub.status.idle": "2024-11-13T14:28:35.908341Z",
     "shell.execute_reply": "2024-11-13T14:28:35.907026Z"
    },
    "papermill": {
     "duration": 0.115098,
     "end_time": "2024-11-13T14:28:35.911029",
     "exception": false,
     "start_time": "2024-11-13T14:28:35.795931",
     "status": "completed"
    },
    "tags": []
   },
   "outputs": [
    {
     "name": "stdout",
     "output_type": "stream",
     "text": [
      " * sqlite:///sample.db\n",
      "Done.\n",
      "Done.\n",
      "Done.\n",
      "3 rows affected.\n",
      "3 rows affected.\n",
      "3 rows affected.\n"
     ]
    },
    {
     "data": {
      "text/plain": [
       "[]"
      ]
     },
     "execution_count": 5,
     "metadata": {},
     "output_type": "execute_result"
    }
   ],
   "source": [
    "%%sql\n",
    "-- Create the 'products' table\n",
    "CREATE TABLE IF NOT EXISTS products (\n",
    "  \tproduct_id INTEGER PRIMARY KEY AUTOINCREMENT,\n",
    "  \tproduct_name VARCHAR(255) NOT NULL,\n",
    "  \tprice DECIMAL(10, 2) NOT NULL\n",
    "  );\n",
    "\n",
    "-- Create the 'staff' table\n",
    "CREATE TABLE IF NOT EXISTS staff (\n",
    "  \tstaff_id INTEGER PRIMARY KEY AUTOINCREMENT,\n",
    "  \tfirst_name VARCHAR(255) NOT NULL,\n",
    "  \tlast_name VARCHAR(255) NOT NULL\n",
    "  );\n",
    "\n",
    "-- Create the 'orders' table\n",
    "CREATE TABLE IF NOT EXISTS orders (\n",
    "  \torder_id INTEGER PRIMARY KEY AUTOINCREMENT,\n",
    "  \tcustomer_name VARCHAR(255) NOT NULL,\n",
    "  \tstaff_id INTEGER NOT NULL,\n",
    "  \tproduct_id INTEGER NOT NULL,\n",
    "  \tFOREIGN KEY (staff_id) REFERENCES staff (staff_id),\n",
    "  \tFOREIGN KEY (product_id) REFERENCES products (product_id)\n",
    "  );\n",
    "\n",
    "-- Insert data into the 'products' table\n",
    "INSERT INTO products (product_name, price) VALUES\n",
    "  \t('Laptop', 799.99),\n",
    "  \t('Keyboard', 129.99),\n",
    "  \t('Mouse', 29.99);\n",
    "\n",
    "-- Insert data into the 'staff' table\n",
    "INSERT INTO staff (first_name, last_name) VALUES\n",
    "  \t('Alice', 'Smith'),\n",
    "  \t('Bob', 'Johnson'),\n",
    "  \t('Charlie', 'Williams');\n",
    "\n",
    "-- Insert data into the 'orders' table\n",
    "INSERT INTO orders (customer_name, staff_id, product_id) VALUES\n",
    "  \t('David Lee', 1, 1),\n",
    "  \t('Emily Chen', 2, 2),\n",
    "  \t('Frank Brown', 1, 3);"
   ]
  },
  {
   "cell_type": "code",
   "execution_count": 6,
   "id": "3318b56e",
   "metadata": {
    "execution": {
     "iopub.execute_input": "2024-11-13T14:28:35.921847Z",
     "iopub.status.busy": "2024-11-13T14:28:35.921269Z",
     "iopub.status.idle": "2024-11-13T14:28:35.927879Z",
     "shell.execute_reply": "2024-11-13T14:28:35.926480Z"
    },
    "papermill": {
     "duration": 0.014999,
     "end_time": "2024-11-13T14:28:35.930386",
     "exception": false,
     "start_time": "2024-11-13T14:28:35.915387",
     "status": "completed"
    },
    "tags": []
   },
   "outputs": [],
   "source": [
    "import sqlite3\n",
    "\n",
    "db_file = \"sample.db\"\n",
    "db_conn = sqlite3.connect(db_file)"
   ]
  },
  {
   "cell_type": "code",
   "execution_count": 7,
   "id": "618dccc2",
   "metadata": {
    "execution": {
     "iopub.execute_input": "2024-11-13T14:28:35.941897Z",
     "iopub.status.busy": "2024-11-13T14:28:35.941105Z",
     "iopub.status.idle": "2024-11-13T14:28:35.953661Z",
     "shell.execute_reply": "2024-11-13T14:28:35.952381Z"
    },
    "papermill": {
     "duration": 0.02143,
     "end_time": "2024-11-13T14:28:35.956308",
     "exception": false,
     "start_time": "2024-11-13T14:28:35.934878",
     "status": "completed"
    },
    "tags": []
   },
   "outputs": [
    {
     "name": "stdout",
     "output_type": "stream",
     "text": [
      " - DB CALL: list_tables\n"
     ]
    },
    {
     "data": {
      "text/plain": [
       "['products', 'sqlite_sequence', 'staff', 'orders']"
      ]
     },
     "execution_count": 7,
     "metadata": {},
     "output_type": "execute_result"
    }
   ],
   "source": [
    "def list_tables() -> list[str]:\n",
    "    \"\"\"Retrieve the names of all tables in the database.\"\"\"\n",
    "    # Include print logging statements so you can see when functions are being called.\n",
    "    print(' - DB CALL: list_tables')\n",
    "\n",
    "    cursor = db_conn.cursor()\n",
    "\n",
    "    # Fetch the table names.\n",
    "    cursor.execute(\"SELECT name FROM sqlite_master WHERE type='table';\")\n",
    "\n",
    "    tables = cursor.fetchall()\n",
    "    return [t[0] for t in tables]\n",
    "\n",
    "\n",
    "list_tables()"
   ]
  },
  {
   "cell_type": "code",
   "execution_count": 8,
   "id": "a02c2eba",
   "metadata": {
    "execution": {
     "iopub.execute_input": "2024-11-13T14:28:35.969124Z",
     "iopub.status.busy": "2024-11-13T14:28:35.967427Z",
     "iopub.status.idle": "2024-11-13T14:28:35.982235Z",
     "shell.execute_reply": "2024-11-13T14:28:35.980895Z"
    },
    "papermill": {
     "duration": 0.024169,
     "end_time": "2024-11-13T14:28:35.985272",
     "exception": false,
     "start_time": "2024-11-13T14:28:35.961103",
     "status": "completed"
    },
    "tags": []
   },
   "outputs": [
    {
     "name": "stdout",
     "output_type": "stream",
     "text": [
      " - DB CALL: describe_table\n"
     ]
    },
    {
     "data": {
      "text/plain": [
       "[('product_id', 'INTEGER'),\n",
       " ('product_name', 'VARCHAR(255)'),\n",
       " ('price', 'DECIMAL(10, 2)')]"
      ]
     },
     "execution_count": 8,
     "metadata": {},
     "output_type": "execute_result"
    }
   ],
   "source": [
    "def describe_table(table_name: str) -> list[tuple[str, str]]:\n",
    "    \"\"\"Look up the table schema.\n",
    "\n",
    "    Returns:\n",
    "      List of columns, where each entry is a tuple of (column, type).\n",
    "    \"\"\"\n",
    "    print(' - DB CALL: describe_table')\n",
    "\n",
    "    cursor = db_conn.cursor()\n",
    "\n",
    "    cursor.execute(f\"PRAGMA table_info({table_name});\")\n",
    "\n",
    "    schema = cursor.fetchall()\n",
    "    # [column index, column name, column type, ...]\n",
    "    return [(col[1], col[2]) for col in schema]\n",
    "\n",
    "\n",
    "describe_table(\"products\")\n"
   ]
  }
 ],
 "metadata": {
  "kaggle": {
   "accelerator": "none",
   "dataSources": [],
   "dockerImageVersionId": 30786,
   "isGpuEnabled": false,
   "isInternetEnabled": true,
   "language": "python",
   "sourceType": "notebook"
  },
  "kernelspec": {
   "display_name": "Python 3",
   "language": "python",
   "name": "python3"
  },
  "language_info": {
   "codemirror_mode": {
    "name": "ipython",
    "version": 3
   },
   "file_extension": ".py",
   "mimetype": "text/x-python",
   "name": "python",
   "nbconvert_exporter": "python",
   "pygments_lexer": "ipython3",
   "version": "3.10.14"
  },
  "papermill": {
   "default_parameters": {},
   "duration": 41.332133,
   "end_time": "2024-11-13T14:28:36.813878",
   "environment_variables": {},
   "exception": null,
   "input_path": "__notebook__.ipynb",
   "output_path": "__notebook__.ipynb",
   "parameters": {},
   "start_time": "2024-11-13T14:27:55.481745",
   "version": "2.6.0"
  }
 },
 "nbformat": 4,
 "nbformat_minor": 5
}
